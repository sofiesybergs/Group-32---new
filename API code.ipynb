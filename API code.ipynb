{
 "cells": [
  {
   "cell_type": "code",
   "execution_count": 39,
   "id": "70713268-3055-4feb-b8bf-bcb99666ddb6",
   "metadata": {},
   "outputs": [],
   "source": [
    "import requests\n",
    "import time\n",
    "import tqdm\n",
    "import pandas as pd\n",
    "import os\n",
    "import json\n",
    "import openpyxl \n",
    "from pathlib import Path\n",
    "from zipfile import ZipFile\n",
    "import pandas as pd\n",
    "import matplotlib.pyplot as plt\n",
    "import numpy as np\n",
    "from numpy import NaN\n",
    "import seaborn as sns"
   ]
  },
  {
   "cell_type": "code",
   "execution_count": 40,
   "id": "e193f4aa-7a4e-405c-abbb-7e8ad4ccccda",
   "metadata": {},
   "outputs": [
    {
     "name": "stdout",
     "output_type": "stream",
     "text": [
      "C:\\Users\\Bruger\\OneDrive\\Dokumenter\\GitHub\\isds2023\\assignments\\Exam project\\data\n"
     ]
    }
   ],
   "source": [
    "fp_data = Path.cwd() / \"data\" \n",
    "Path.mkdir(fp_data, exist_ok=True)  \n",
    "print(fp_data)"
   ]
  },
  {
   "cell_type": "code",
   "execution_count": 41,
   "id": "1f45c676-6895-45a2-a5fd-218696160f3f",
   "metadata": {},
   "outputs": [
    {
     "data": {
      "text/plain": [
       "'https://api.statbank.dk/v1/data/MPK3/JSONSTAT?lang=en&Tid=*&Type=5500602011'"
      ]
     },
     "execution_count": 41,
     "metadata": {},
     "output_type": "execute_result"
    }
   ],
   "source": [
    "def construct_link(table_id, variables):\n",
    "    base = f'https://api.statbank.dk/v1/data/{table_id}/JSONSTAT?lang=en'\n",
    "    \n",
    "    for var in variables:\n",
    "        base += f'&{var}'\n",
    "\n",
    "    return base \n",
    "\n",
    "construct_link('MPK3', ['Tid=*', 'Type=5500602011'])"
   ]
  },
  {
   "cell_type": "code",
   "execution_count": 42,
   "id": "94c33b91-0295-4773-8c94-988139b87865",
   "metadata": {},
   "outputs": [],
   "source": [
    "#API FOR loan interest rate \n",
    "#It refers to the interest rate that banks and financial institutions charge for lending money to individuals, businesses, and other institutions.\n",
    "url = construct_link('MPK3', ['Tid=*', 'Type=5500602011'])\n",
    "\n",
    "def create_data(url):\n",
    "    response = requests.get(url).json()\n",
    "    values = response['dataset']['value']\n",
    "    years = response['dataset']['dimension']['Tid']['category']['index']\n",
    "    data = dict(zip(years, values))\n",
    "    return data\n",
    "\n",
    "Interest_rate = create_data(url)\n",
    "\n",
    "interest_rate_df = pd.DataFrame(Interest_rate.items(), columns=['Year', 'Loan interest rate']).dropna()\n"
   ]
  },
  {
   "cell_type": "code",
   "execution_count": 43,
   "id": "39981a5a-d64a-4087-bad1-449698f2fa59",
   "metadata": {},
   "outputs": [],
   "source": [
    "#API for consumer price index \n",
    "url = construct_link('PRIS111', ['Tid=*', 'VAREGR=000000', 'Enhed=100'])\n",
    "\n",
    "def create_data(url):\n",
    "    response = requests.get(url).json()\n",
    "    values = response['dataset']['value']\n",
    "    years = response['dataset']['dimension']['Tid']['category']['index']\n",
    "    data = dict(zip(years, values))\n",
    "    return data\n",
    "\n",
    "Consumer_price_index = create_data(url)\n",
    "Consumer_price_index_df = pd.DataFrame(Consumer_price_index.items(), columns=['Year', 'Consumer Price Index']).dropna()"
   ]
  },
  {
   "cell_type": "code",
   "execution_count": 44,
   "id": "a02aeafa-fb74-4c4a-a1f4-446a52c9fb58",
   "metadata": {},
   "outputs": [],
   "source": [
    "#\"Net Price Index.\" This index measures the change in the prices of goods and services excluding taxes, tariffs, and subsidies. \n",
    "#It focuses on the underlying price changes of products and services before the impact of government policies, \n",
    "#such as taxes and subsidies, is taken into account. \n",
    "\n",
    "url = construct_link('PRIS116', ['Tid=*', 'Type=*'])\n",
    "\n",
    "def create_data(url):\n",
    "    response = requests.get(url).json()\n",
    "    values = response['dataset']['value']\n",
    "    years = response['dataset']['dimension']['Tid']['category']['index']\n",
    "    data = dict(zip(years, values))\n",
    "    return data\n",
    "\n",
    "net_price_index = create_data(url)\n",
    "# Create a DataFrame\n",
    "net_price_index_df = pd.DataFrame(net_price_index.items(), columns=['Year', 'Salary']).dropna()"
   ]
  },
  {
   "cell_type": "code",
   "execution_count": 45,
   "id": "7f1dc008-97fd-46cf-b554-c5b57a4d36dc",
   "metadata": {},
   "outputs": [],
   "source": [
    "#API for salary (this one is quarterly) \n",
    "\n",
    "url = construct_link('SBLON1', ['Tid=*', 'BRANCHE07=*', 'VARIA1=100', 'SEKTOR=1000'])\n",
    "def create_data(url):\n",
    "    response = requests.get(url).json()\n",
    "    values = response['dataset']['value']\n",
    "    years = response['dataset']['dimension']['Tid']['category']['index']\n",
    "    data = dict(zip(years, values))\n",
    "    return data\n",
    "\n",
    "salary_data = create_data(url)\n",
    "\n",
    "# Create a DataFrame\n",
    "salary_df = pd.DataFrame(salary_data.items(), columns=['Year', 'Salary']).dropna()\n",
    "\n"
   ]
  },
  {
   "cell_type": "code",
   "execution_count": 46,
   "id": "48821261-879a-42fb-80f2-083c0dba9967",
   "metadata": {},
   "outputs": [
    {
     "name": "stdout",
     "output_type": "stream",
     "text": [
      "https://api.statbank.dk/v1/data/NKN1/JSONSTAT?lang=en&Tid=*&SON=Y&PRISENHED=LKV_M&TRANSAKT=B1GQK\n"
     ]
    }
   ],
   "source": [
    "\n"
   ]
  },
  {
   "cell_type": "code",
   "execution_count": 53,
   "id": "07ea5c60-8729-4008-b193-7eae202f1d29",
   "metadata": {},
   "outputs": [
    {
     "data": {
      "text/html": [
       "<div>\n",
       "<style scoped>\n",
       "    .dataframe tbody tr th:only-of-type {\n",
       "        vertical-align: middle;\n",
       "    }\n",
       "\n",
       "    .dataframe tbody tr th {\n",
       "        vertical-align: top;\n",
       "    }\n",
       "\n",
       "    .dataframe thead th {\n",
       "        text-align: right;\n",
       "    }\n",
       "</style>\n",
       "<table border=\"1\" class=\"dataframe\">\n",
       "  <thead>\n",
       "    <tr style=\"text-align: right;\">\n",
       "      <th></th>\n",
       "      <th>Year</th>\n",
       "      <th>Salary</th>\n",
       "    </tr>\n",
       "  </thead>\n",
       "  <tbody>\n",
       "    <tr>\n",
       "      <th>0</th>\n",
       "      <td>1990K1</td>\n",
       "      <td>318.9</td>\n",
       "    </tr>\n",
       "    <tr>\n",
       "      <th>1</th>\n",
       "      <td>1990K2</td>\n",
       "      <td>328.5</td>\n",
       "    </tr>\n",
       "    <tr>\n",
       "      <th>2</th>\n",
       "      <td>1990K3</td>\n",
       "      <td>316.4</td>\n",
       "    </tr>\n",
       "    <tr>\n",
       "      <th>3</th>\n",
       "      <td>1990K4</td>\n",
       "      <td>324.9</td>\n",
       "    </tr>\n",
       "    <tr>\n",
       "      <th>4</th>\n",
       "      <td>1991K1</td>\n",
       "      <td>321.9</td>\n",
       "    </tr>\n",
       "    <tr>\n",
       "      <th>...</th>\n",
       "      <td>...</td>\n",
       "      <td>...</td>\n",
       "    </tr>\n",
       "    <tr>\n",
       "      <th>128</th>\n",
       "      <td>2022K1</td>\n",
       "      <td>547.5</td>\n",
       "    </tr>\n",
       "    <tr>\n",
       "      <th>129</th>\n",
       "      <td>2022K2</td>\n",
       "      <td>572.5</td>\n",
       "    </tr>\n",
       "    <tr>\n",
       "      <th>130</th>\n",
       "      <td>2022K3</td>\n",
       "      <td>561.8</td>\n",
       "    </tr>\n",
       "    <tr>\n",
       "      <th>131</th>\n",
       "      <td>2022K4</td>\n",
       "      <td>590.4</td>\n",
       "    </tr>\n",
       "    <tr>\n",
       "      <th>132</th>\n",
       "      <td>2023K1</td>\n",
       "      <td>558.0</td>\n",
       "    </tr>\n",
       "  </tbody>\n",
       "</table>\n",
       "<p>133 rows × 2 columns</p>\n",
       "</div>"
      ],
      "text/plain": [
       "       Year  Salary\n",
       "0    1990K1   318.9\n",
       "1    1990K2   328.5\n",
       "2    1990K3   316.4\n",
       "3    1990K4   324.9\n",
       "4    1991K1   321.9\n",
       "..      ...     ...\n",
       "128  2022K1   547.5\n",
       "129  2022K2   572.5\n",
       "130  2022K3   561.8\n",
       "131  2022K4   590.4\n",
       "132  2023K1   558.0\n",
       "\n",
       "[133 rows x 2 columns]"
      ]
     },
     "execution_count": 53,
     "metadata": {},
     "output_type": "execute_result"
    }
   ],
   "source": [
    "#API for GDP (are we in an economic boom --> could maybe create a binary variable with a yes or no) \n",
    "#chose to use chained values because account for changes in price levels over time, making them suitable for comparing economic \n",
    "#data across different time periods while adjusting for inflation or deflation. This is important because GDP and housing prices \n",
    "#can be affected by changes in the general price level, and using chained values helps to isolate the real changes in these variables.\n",
    "\n",
    "url = construct_link('NKN1', ['Tid=*', 'S%C3%86SON=*', 'PRISENHED=LKV_M', 'TRANSAKT=B1GQK'])\n",
    "\n",
    "def create_data(url):\n",
    "    response = requests.get(url).json()\n",
    "    values = response['dataset']['value']\n",
    "    years = response['dataset']['dimension']['Tid']['category']['index']\n",
    "    data = dict(zip(years, values))\n",
    "    return data\n",
    "\n",
    "gdp= create_data(url)\n",
    "gdp_df = pd.DataFrame(gdp.items(), columns=['Year', 'Salary']).dropna()\n",
    "gdp_df"
   ]
  },
  {
   "cell_type": "code",
   "execution_count": null,
   "id": "0576f949-38ed-410b-a78a-1b3fc22ad7ed",
   "metadata": {},
   "outputs": [],
   "source": []
  }
 ],
 "metadata": {
  "kernelspec": {
   "display_name": "Python 3 (ipykernel)",
   "language": "python",
   "name": "python3"
  },
  "language_info": {
   "codemirror_mode": {
    "name": "ipython",
    "version": 3
   },
   "file_extension": ".py",
   "mimetype": "text/x-python",
   "name": "python",
   "nbconvert_exporter": "python",
   "pygments_lexer": "ipython3",
   "version": "3.10.9"
  }
 },
 "nbformat": 4,
 "nbformat_minor": 5
}
